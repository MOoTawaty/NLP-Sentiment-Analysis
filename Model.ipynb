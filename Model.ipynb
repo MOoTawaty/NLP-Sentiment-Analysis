{
 "cells": [
  {
   "cell_type": "code",
   "execution_count": 34,
   "id": "862ca7bc",
   "metadata": {},
   "outputs": [],
   "source": [
    "import pandas as pd"
   ]
  },
  {
   "cell_type": "markdown",
   "id": "feb2dc9f",
   "metadata": {},
   "source": [
    "# Cleaning &  Preparing the data to classify"
   ]
  },
  {
   "cell_type": "code",
   "execution_count": 35,
   "id": "b34aba3d",
   "metadata": {},
   "outputs": [
    {
     "data": {
      "text/plain": [
       "{'this': True, 'is': True, 'an': True, 'interest': True, 'boy': True}"
      ]
     },
     "execution_count": 35,
     "metadata": {},
     "output_type": "execute_result"
    }
   ],
   "source": [
    "from nltk.stem.snowball import SnowballStemmer\n",
    "from nltk.tokenize import word_tokenize \n",
    "import re\n",
    "\n",
    "stemmer = SnowballStemmer(\"english\")\n",
    "def format_sentence(sent):\n",
    "    sent = sent.lower()\n",
    "    sent = re.sub('\\s+', ' ', sent) #exstra space\n",
    "    sent = ' '.join([stemmer.stem(word) for word in re.split('\\s+', sent)]) #Stemming\n",
    "    sent = re.sub(\"[^0-9A-Za-z ]\", \"\", sent) #Punctuations \n",
    "    return {word: (word in word_tokenize(sent)) for word in word_tokenize(sent)}\n",
    "\n",
    "format_sentence('this’’s is an interesting boy   @#!$%^&')  #testing sentence"
   ]
  },
  {
   "cell_type": "code",
   "execution_count": 36,
   "id": "a64cc9a8",
   "metadata": {},
   "outputs": [],
   "source": [
    "data = pd.read_csv('data.csv', encoding= 'unicode_escape').values.tolist()"
   ]
  },
  {
   "cell_type": "markdown",
   "id": "7294a992",
   "metadata": {},
   "source": [
    "## Reading the Financial data"
   ]
  },
  {
   "cell_type": "code",
   "execution_count": 37,
   "id": "e2662c73",
   "metadata": {},
   "outputs": [],
   "source": [
    "pos_data = []\n",
    "neg_data = []\n",
    "neu_data = []\n",
    "\n",
    "for rew in range(len(data)):\n",
    "    record = data[rew]\n",
    "    line = str(record[0])   \n",
    "    category = str(record[1])\n",
    "    if(category == 'positive'):\n",
    "        pos_data.append([format_sentence(line), 'pos'])\n",
    "    elif(category == 'negative'):\n",
    "        neg_data.append([format_sentence(line), 'neg'])\n",
    "    elif(category == 'neutral'):\n",
    "        neu_data.append([format_sentence(line), 'neut'])\n",
    "    "
   ]
  },
  {
   "cell_type": "code",
   "execution_count": 38,
   "id": "8d315764",
   "metadata": {},
   "outputs": [
    {
     "name": "stdout",
     "output_type": "stream",
     "text": [
      "1852 860 3130\n"
     ]
    }
   ],
   "source": [
    "print(len(pos_data), len(neg_data), len(neu_data))"
   ]
  },
  {
   "cell_type": "markdown",
   "id": "f406ef44",
   "metadata": {},
   "source": [
    "## Reading the question data to enhance neutrality"
   ]
  },
  {
   "cell_type": "code",
   "execution_count": 39,
   "id": "9ac20f90",
   "metadata": {},
   "outputs": [],
   "source": [
    "data = pd.read_csv('questions.csv', ).values.tolist()"
   ]
  },
  {
   "cell_type": "code",
   "execution_count": 40,
   "id": "c0e13798",
   "metadata": {},
   "outputs": [],
   "source": [
    "neu_questions = []\n",
    "\n",
    "for rew in range(2500):\n",
    "    record = data[rew]\n",
    "    line = str(record[3])   \n",
    "    neu_questions.append([format_sentence(line), 'neut'])"
   ]
  },
  {
   "cell_type": "markdown",
   "id": "3885d040",
   "metadata": {},
   "source": [
    "### Reading extra data"
   ]
  },
  {
   "cell_type": "code",
   "execution_count": 41,
   "id": "0c8f9e70",
   "metadata": {},
   "outputs": [],
   "source": [
    "posit_data = []\n",
    "with open('extra.pos.txt', encoding='latin-1') as f:\n",
    "    for line in f:\n",
    "        posit_data.append([format_sentence(line), 'pos'])"
   ]
  },
  {
   "cell_type": "code",
   "execution_count": 42,
   "id": "cdc045b5",
   "metadata": {},
   "outputs": [],
   "source": [
    "negat_data = []\n",
    "with open('extra.neg.txt', encoding='latin-1') as f:\n",
    "    for line in f:\n",
    "        negat_data.append([format_sentence(line), 'neg'])"
   ]
  },
  {
   "cell_type": "code",
   "execution_count": 43,
   "id": "a080d7db",
   "metadata": {},
   "outputs": [],
   "source": [
    "pos_data.extend(posit_data)\n",
    "neg_data.extend(negat_data)\n",
    "neu_data.extend(neu_questions)\n",
    "pos_data = pos_data[:6000]"
   ]
  },
  {
   "cell_type": "code",
   "execution_count": 44,
   "id": "dd3c22f9",
   "metadata": {},
   "outputs": [
    {
     "name": "stdout",
     "output_type": "stream",
     "text": [
      "6000 6191 5630\n"
     ]
    }
   ],
   "source": [
    "print(len(pos_data), len(neg_data), len(neu_data))"
   ]
  },
  {
   "cell_type": "code",
   "execution_count": 45,
   "id": "a7142f68",
   "metadata": {},
   "outputs": [],
   "source": [
    "training_data = pos_data[:5500] + neg_data[:4500] + neu_data[1100:] \n",
    "testing_data  = pos_data[5500:] + neg_data[4500:] + neu_data[:1100]"
   ]
  },
  {
   "cell_type": "code",
   "execution_count": 46,
   "id": "b6a222d2",
   "metadata": {},
   "outputs": [
    {
     "name": "stdout",
     "output_type": "stream",
     "text": [
      "14530 3291\n"
     ]
    }
   ],
   "source": [
    "print(len(training_data), len(testing_data))"
   ]
  },
  {
   "cell_type": "code",
   "execution_count": 47,
   "id": "3d0d43b7",
   "metadata": {},
   "outputs": [
    {
     "name": "stdout",
     "output_type": "stream",
     "text": [
      "Most Informative Features\n",
      "                    film = True              pos : neut   =     84.0 : 1.0\n",
      "                   india = True             neut : neg    =     65.9 : 1.0\n",
      "               entertain = True              pos : neut   =     62.9 : 1.0\n",
      "                  comedi = True              pos : neut   =     49.6 : 1.0\n",
      "                    lack = True              neg : neut   =     49.3 : 1.0\n",
      "                 audienc = True              neg : neut   =     48.0 : 1.0\n",
      "                    isnt = True              neg : neut   =     47.3 : 1.0\n",
      "                    seem = True              neg : neut   =     44.5 : 1.0\n",
      "                   drama = True              pos : neut   =     43.7 : 1.0\n",
      "                   enjoy = True              pos : neut   =     42.6 : 1.0\n"
     ]
    }
   ],
   "source": [
    "from nltk.classify import NaiveBayesClassifier\n",
    "model = NaiveBayesClassifier.train(training_data)\n",
    "model.show_most_informative_features()"
   ]
  },
  {
   "cell_type": "code",
   "execution_count": 48,
   "id": "b4144972",
   "metadata": {},
   "outputs": [
    {
     "name": "stdout",
     "output_type": "stream",
     "text": [
      "pos\n",
      "neg\n",
      "neut\n",
      "neut\n",
      "neut\n"
     ]
    }
   ],
   "source": [
    "print(model.classify(format_sentence('this is a nice boy!')))\n",
    "print(model.classify(format_sentence('this is a bad boy!')))\n",
    "print(model.classify(format_sentence('what is ur name?')))\n",
    "print(model.classify(format_sentence('Viking Line has canceled some services.')))\n",
    "print(model.classify(format_sentence('my name is Mohamed Khalid.')))"
   ]
  },
  {
   "cell_type": "code",
   "execution_count": 49,
   "id": "2818af41",
   "metadata": {},
   "outputs": [
    {
     "data": {
      "text/plain": [
       "0.7687632938316621"
      ]
     },
     "execution_count": 49,
     "metadata": {},
     "output_type": "execute_result"
    }
   ],
   "source": [
    "from nltk.classify.util import accuracy\n",
    "accuracy(model, testing_data)"
   ]
  },
  {
   "cell_type": "code",
   "execution_count": null,
   "id": "4cd1f235",
   "metadata": {},
   "outputs": [],
   "source": []
  }
 ],
 "metadata": {
  "kernelspec": {
   "display_name": "Python 3 (ipykernel)",
   "language": "python",
   "name": "python3"
  },
  "language_info": {
   "codemirror_mode": {
    "name": "ipython",
    "version": 3
   },
   "file_extension": ".py",
   "mimetype": "text/x-python",
   "name": "python",
   "nbconvert_exporter": "python",
   "pygments_lexer": "ipython3",
   "version": "3.10.1"
  }
 },
 "nbformat": 4,
 "nbformat_minor": 5
}
