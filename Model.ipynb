{
 "cells": [
  {
   "cell_type": "code",
   "execution_count": 606,
   "id": "862ca7bc",
   "metadata": {},
   "outputs": [],
   "source": [
    "import pandas as pd"
   ]
  },
  {
   "cell_type": "markdown",
   "id": "feb2dc9f",
   "metadata": {},
   "source": [
    "# Cleaning &  Preparing the data to classify"
   ]
  },
  {
   "cell_type": "code",
   "execution_count": 607,
   "id": "b34aba3d",
   "metadata": {},
   "outputs": [
    {
     "data": {
      "text/plain": [
       "{'this': True, 'is': True, 'a': True, 'interest': True, 'boy': True}"
      ]
     },
     "execution_count": 607,
     "metadata": {},
     "output_type": "execute_result"
    }
   ],
   "source": [
    "from nltk.stem.snowball import SnowballStemmer\n",
    "from nltk.tokenize import word_tokenize \n",
    "import re\n",
    "\n",
    "stemmer = SnowballStemmer(\"english\")\n",
    "def format_sentence(sent):\n",
    "    sent = sent.lower()\n",
    "    sent = re.sub('\\s+', ' ', sent) #exstra space\n",
    "    sent = ' '.join([stemmer.stem(word) for word in re.split('\\s+', sent)]) #Stemming\n",
    "    sent = re.sub(\"[^0-9A-Za-z ]\", \"\", sent) #Punctuations \n",
    "    return {word: (word in word_tokenize(sent)) for word in word_tokenize(sent)}\n",
    "\n",
    "format_sentence('this’s is a interesting boy   @#!$%^&')"
   ]
  },
  {
   "cell_type": "code",
   "execution_count": 608,
   "id": "a64cc9a8",
   "metadata": {},
   "outputs": [],
   "source": [
    "data = pd.read_csv('data.csv', encoding= 'unicode_escape').values.tolist()"
   ]
  },
  {
   "cell_type": "markdown",
   "id": "7294a992",
   "metadata": {},
   "source": [
    "## Reading the data"
   ]
  },
  {
   "cell_type": "code",
   "execution_count": 609,
   "id": "e2662c73",
   "metadata": {},
   "outputs": [],
   "source": [
    "pos_data = []\n",
    "neg_data = []\n",
    "neu_data = []\n",
    "\n",
    "for rew in range(len(data)):\n",
    "    record = data[rew]\n",
    "    line = str(record[0])   \n",
    "    category = str(record[1])\n",
    "    if(category == 'positive'):\n",
    "        pos_data.append([format_sentence(line), 'pos'])\n",
    "    elif(category == 'negative'):\n",
    "        neg_data.append([format_sentence(line), 'neg'])\n",
    "    elif(category == 'neutral'):\n",
    "        neu_data.append([format_sentence(line), 'neutral'])\n",
    "    "
   ]
  },
  {
   "cell_type": "code",
   "execution_count": 610,
   "id": "8b4cd079",
   "metadata": {},
   "outputs": [
    {
     "name": "stdout",
     "output_type": "stream",
     "text": [
      "1852 860 3130\n"
     ]
    }
   ],
   "source": [
    "print(len(pos_data), len(neg_data), len(neu_data))"
   ]
  },
  {
   "cell_type": "code",
   "execution_count": 611,
   "id": "0c8f9e70",
   "metadata": {},
   "outputs": [],
   "source": [
    "posit_data = []\n",
    "with open('extra.pos.txt', encoding='latin-1') as f:\n",
    "    for line in f:\n",
    "        posit_data.append([format_sentence(line), 'pos'])"
   ]
  },
  {
   "cell_type": "code",
   "execution_count": 612,
   "id": "cdc045b5",
   "metadata": {},
   "outputs": [],
   "source": [
    "negat_data = []\n",
    "with open('extra.neg.txt', encoding='latin-1') as f:\n",
    "    for line in f:\n",
    "        negat_data.append([format_sentence(line), 'neg'])"
   ]
  },
  {
   "cell_type": "code",
   "execution_count": 613,
   "id": "4fbd28f4",
   "metadata": {},
   "outputs": [],
   "source": [
    "# english_ques_data = []\n",
    "# with open('english-question.neu.txt', encoding='latin-1') as f:\n",
    "#     for line in f:\n",
    "#         english_ques_data.append([format_sentence(line), 'neutral'])"
   ]
  },
  {
   "cell_type": "code",
   "execution_count": 614,
   "id": "a080d7db",
   "metadata": {},
   "outputs": [],
   "source": [
    "pos_data.extend(posit_data)\n",
    "neg_data.extend(negat_data)\n",
    "# neu_data += english_ques_data"
   ]
  },
  {
   "cell_type": "code",
   "execution_count": 615,
   "id": "dd3c22f9",
   "metadata": {},
   "outputs": [
    {
     "name": "stdout",
     "output_type": "stream",
     "text": [
      "7183 6191 3130\n"
     ]
    }
   ],
   "source": [
    "print(len(pos_data), len(neg_data), len(neu_data))"
   ]
  },
  {
   "cell_type": "code",
   "execution_count": 616,
   "id": "a7142f68",
   "metadata": {},
   "outputs": [],
   "source": [
    "training_data = pos_data[:6000] + neg_data[:5000] + neu_data[1500:] \n",
    "testing_data  = pos_data[6000:] + neg_data[5000:] + neu_data[:1500]"
   ]
  },
  {
   "cell_type": "code",
   "execution_count": 617,
   "id": "b6a222d2",
   "metadata": {},
   "outputs": [
    {
     "name": "stdout",
     "output_type": "stream",
     "text": [
      "12630 3874\n"
     ]
    }
   ],
   "source": [
    "print(len(training_data), len(testing_data))"
   ]
  },
  {
   "cell_type": "code",
   "execution_count": 618,
   "id": "3d0d43b7",
   "metadata": {},
   "outputs": [],
   "source": [
    "from nltk.classify import NaiveBayesClassifier\n",
    "model = NaiveBayesClassifier.train(training_data)\n",
    "#model.show_most_informative_features()"
   ]
  },
  {
   "cell_type": "code",
   "execution_count": 619,
   "id": "b4144972",
   "metadata": {},
   "outputs": [
    {
     "name": "stdout",
     "output_type": "stream",
     "text": [
      "pos\n",
      "neg\n",
      "pos\n",
      "neg\n"
     ]
    }
   ],
   "source": [
    "print(model.classify(format_sentence('this is a nice boy!')))\n",
    "print(model.classify(format_sentence('this is a bad boy!')))\n",
    "print(model.classify(format_sentence('happyness')))\n",
    "print(model.classify(format_sentence('what is ur name?')))"
   ]
  },
  {
   "cell_type": "code",
   "execution_count": 620,
   "id": "2818af41",
   "metadata": {},
   "outputs": [
    {
     "data": {
      "text/plain": [
       "0.821115126484254"
      ]
     },
     "execution_count": 620,
     "metadata": {},
     "output_type": "execute_result"
    }
   ],
   "source": [
    "from nltk.classify.util import accuracy\n",
    "accuracy(model, testing_data)"
   ]
  },
  {
   "cell_type": "code",
   "execution_count": null,
   "id": "4cd1f235",
   "metadata": {},
   "outputs": [],
   "source": []
  }
 ],
 "metadata": {
  "kernelspec": {
   "display_name": "Python 3 (ipykernel)",
   "language": "python",
   "name": "python3"
  },
  "language_info": {
   "codemirror_mode": {
    "name": "ipython",
    "version": 3
   },
   "file_extension": ".py",
   "mimetype": "text/x-python",
   "name": "python",
   "nbconvert_exporter": "python",
   "pygments_lexer": "ipython3",
   "version": "3.10.1"
  }
 },
 "nbformat": 4,
 "nbformat_minor": 5
}
