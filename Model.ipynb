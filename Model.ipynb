{
 "cells": [
  {
   "cell_type": "code",
   "execution_count": 178,
   "id": "862ca7bc",
   "metadata": {},
   "outputs": [],
   "source": [
    "import pandas as pd"
   ]
  },
  {
   "cell_type": "code",
   "execution_count": 179,
   "id": "45522dbb",
   "metadata": {},
   "outputs": [
    {
     "data": {
      "text/plain": [
       "{'this': True, 'is': True, 'a': True, 'good': True, 'boy': True}"
      ]
     },
     "execution_count": 179,
     "metadata": {},
     "output_type": "execute_result"
    }
   ],
   "source": [
    "from nltk.tokenize import word_tokenize \n",
    "\n",
    "def format_sentence(sent):\n",
    "    return {word: True for word in word_tokenize(sent)}\n",
    "\n",
    "format_sentence('this is a good boy')"
   ]
  },
  {
   "cell_type": "code",
   "execution_count": 180,
   "id": "a64cc9a8",
   "metadata": {},
   "outputs": [],
   "source": [
    "data = pd.read_csv('Twitter_Data.csv',dtype=str).values.tolist()"
   ]
  },
  {
   "cell_type": "markdown",
   "id": "7294a992",
   "metadata": {},
   "source": [
    "# Cleaning & Preparing the data to train"
   ]
  },
  {
   "cell_type": "code",
   "execution_count": 181,
   "id": "e2662c73",
   "metadata": {},
   "outputs": [],
   "source": [
    "import re\n",
    "\n",
    "pos_data = []\n",
    "neg_data = []\n",
    "neu_data = []\n",
    "\n",
    "for rew in range(len(data)):\n",
    "    record = data[rew]\n",
    "    line = str(record[0])\n",
    "    line = line.lower()\n",
    "    line = re.sub('\\s+', ' ', line) #exstra space\n",
    "    line = re.sub(\"[^0-9A-Za-z ]\", \"\", line) #Punctuations \n",
    "    category = float(record[1])\n",
    "    if(category > 0):\n",
    "        pos_data.append([format_sentence(line), 'pos'])\n",
    "    elif(category < 0):\n",
    "        neg_data.append([format_sentence(line), 'neg'])\n",
    "    elif(category == 0):\n",
    "        neu_data.append([format_sentence(line), 'neu'])\n",
    "    "
   ]
  },
  {
   "cell_type": "code",
   "execution_count": 182,
   "id": "a7142f68",
   "metadata": {},
   "outputs": [],
   "source": [
    "training_data = pos_data[:70000] + neg_data[:34000] + neu_data[:53500]\n",
    "testing_data  = pos_data[70000:] + neg_data[34000:] + neu_data[53500:]"
   ]
  },
  {
   "cell_type": "code",
   "execution_count": 183,
   "id": "b6a222d2",
   "metadata": {},
   "outputs": [
    {
     "name": "stdout",
     "output_type": "stream",
     "text": [
      "157500 5473 162973\n",
      "72250 35510 55213\n"
     ]
    }
   ],
   "source": [
    "sum = len(pos_data) + len(neg_data) + len(neu_data)\n",
    "print(len(training_data), len(testing_data), sum)\n",
    "print(len(pos_data), len(neg_data), len(neu_data))"
   ]
  },
  {
   "cell_type": "code",
   "execution_count": 184,
   "id": "3d0d43b7",
   "metadata": {},
   "outputs": [],
   "source": [
    "from nltk.classify import NaiveBayesClassifier"
   ]
  },
  {
   "cell_type": "code",
   "execution_count": 185,
   "id": "8a5fd37a",
   "metadata": {},
   "outputs": [],
   "source": [
    "model = NaiveBayesClassifier.train(training_data)"
   ]
  },
  {
   "cell_type": "code",
   "execution_count": 186,
   "id": "b4144972",
   "metadata": {},
   "outputs": [
    {
     "name": "stdout",
     "output_type": "stream",
     "text": [
      "pos\n",
      "neu\n",
      "pos\n"
     ]
    }
   ],
   "source": [
    "print(model.classify(format_sentence('this is a very nice boy!')))\n",
    "print(model.classify(format_sentence('surat women perform yagna seeks divine grace for narendra modi become again!')))\n",
    "print(model.classify(format_sentence('how much clock?')))"
   ]
  },
  {
   "cell_type": "code",
   "execution_count": 187,
   "id": "2818af41",
   "metadata": {},
   "outputs": [
    {
     "data": {
      "text/plain": [
       "0.5558194774346793"
      ]
     },
     "execution_count": 187,
     "metadata": {},
     "output_type": "execute_result"
    }
   ],
   "source": [
    "from nltk.classify.util import accuracy\n",
    "accuracy(model, testing_data)"
   ]
  },
  {
   "cell_type": "code",
   "execution_count": null,
   "id": "88a3c500",
   "metadata": {},
   "outputs": [],
   "source": []
  }
 ],
 "metadata": {
  "kernelspec": {
   "display_name": "Python 3 (ipykernel)",
   "language": "python",
   "name": "python3"
  },
  "language_info": {
   "codemirror_mode": {
    "name": "ipython",
    "version": 3
   },
   "file_extension": ".py",
   "mimetype": "text/x-python",
   "name": "python",
   "nbconvert_exporter": "python",
   "pygments_lexer": "ipython3",
   "version": "3.10.1"
  }
 },
 "nbformat": 4,
 "nbformat_minor": 5
}
